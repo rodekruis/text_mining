{
 "cells": [
  {
   "cell_type": "code",
   "execution_count": 1,
   "metadata": {},
   "outputs": [],
   "source": [
    "from pdfminer.converter import TextConverter\n",
    "from pdfminer.layout import LAParams\n",
    "from pdfminer.pdfdocument import PDFDocument\n",
    "from pdfminer.pdfinterp import PDFResourceManager, PDFPageInterpreter\n",
    "from pdfminer.pdfpage import PDFPage\n",
    "from pdfminer.pdfparser import PDFParser\n",
    "from pdfminer.converter import PDFPageAggregator\n",
    "from pdfminer.converter import PDFPageAggregator\n",
    "from io import StringIO\n",
    "import os\n",
    "import codecs\n",
    "import re\n",
    "import tabula\n"
   ]
  },
  {
   "cell_type": "code",
   "execution_count": 2,
   "metadata": {},
   "outputs": [],
   "source": [
    "# From this cell and below I follow the tutorial at http://www.degeneratestate.org/posts/2016/Jun/15/extracting-tabular-data-from-pdfs/\n",
    "\n",
    "# Test on Cook Island file page 8\n",
    "file = 'Approved Plans/Cook Islands/MDR00005cdrp_cook_islands.pdf'"
   ]
  },
  {
   "cell_type": "code",
   "execution_count": 3,
   "metadata": {},
   "outputs": [],
   "source": [
    "def extract_layout_by_page(pdf_path):\n",
    "    \"\"\"\n",
    "    Extracts LTPage objects from a pdf file.\n",
    "    \n",
    "    slightly modified from\n",
    "    https://euske.github.io/pdfminer/programming.html\n",
    "    \"\"\"\n",
    "    laparams = LAParams()\n",
    "\n",
    "    fp = open(pdf_path, 'rb')\n",
    "    parser = PDFParser(fp)\n",
    "    document = PDFDocument(parser)\n",
    "\n",
    "    if not document.is_extractable:\n",
    "        raise PDFTextExtractionNotAllowed\n",
    "\n",
    "    rsrcmgr = PDFResourceManager()\n",
    "    device = PDFPageAggregator(rsrcmgr, laparams=laparams)\n",
    "    interpreter = PDFPageInterpreter(rsrcmgr, device)\n",
    "\n",
    "    layouts = []\n",
    "    for page in PDFPage.create_pages(document):\n",
    "        # only pages with landscape orientation\n",
    "        if page.cropbox[2] < 800:\n",
    "            continue\n",
    "\n",
    "        interpreter.process_page(page)\n",
    "        layouts.append(device.get_result())\n",
    "\n",
    "    return layouts\n",
    "\n",
    "\n",
    "page_layouts = extract_layout_by_page(file)"
   ]
  },
  {
   "cell_type": "code",
   "execution_count": 4,
   "metadata": {},
   "outputs": [
    {
     "data": {
      "text/plain": [
       "7"
      ]
     },
     "execution_count": 4,
     "metadata": {},
     "output_type": "execute_result"
    }
   ],
   "source": [
    "len(page_layouts)"
   ]
  },
  {
   "cell_type": "code",
   "execution_count": 5,
   "metadata": {},
   "outputs": [
    {
     "data": {
      "text/plain": [
       "{pdfminer.layout.LTCurve,\n",
       " pdfminer.layout.LTFigure,\n",
       " pdfminer.layout.LTRect,\n",
       " pdfminer.layout.LTTextBoxHorizontal}"
      ]
     },
     "execution_count": 5,
     "metadata": {},
     "output_type": "execute_result"
    }
   ],
   "source": [
    "objects_on_page = set(type(o) for o in page_layouts[3])\n",
    "objects_on_page"
   ]
  },
  {
   "cell_type": "code",
   "execution_count": 6,
   "metadata": {},
   "outputs": [],
   "source": [
    "import pdfminer\n",
    "\n",
    "TEXT_ELEMENTS = [\n",
    "    pdfminer.layout.LTTextBox,\n",
    "    pdfminer.layout.LTTextBoxHorizontal,\n",
    "    pdfminer.layout.LTTextLine,\n",
    "    pdfminer.layout.LTTextLineHorizontal\n",
    "]\n",
    "\n",
    "def flatten(lst):\n",
    "    \"\"\"Flattens a list of lists\"\"\"\n",
    "    return [subelem for elem in lst for subelem in elem]\n",
    "\n",
    "\n",
    "def extract_characters(element):\n",
    "    \"\"\"\n",
    "    Recursively extracts individual characters from \n",
    "    text elements. \n",
    "    \"\"\"\n",
    "    if isinstance(element, pdfminer.layout.LTChar):\n",
    "        return [element]\n",
    "\n",
    "    if any(isinstance(element, i) for i in TEXT_ELEMENTS):\n",
    "        return flatten([extract_characters(e) for e in element])\n",
    "\n",
    "    if isinstance(element, list):\n",
    "        return flatten([extract_characters(l) for l in element])\n",
    "\n",
    "    return []"
   ]
  },
  {
   "cell_type": "code",
   "execution_count": 7,
   "metadata": {},
   "outputs": [],
   "source": [
    "current_page = page_layouts[1]\n",
    "\n",
    "texts = []\n",
    "rects = []\n",
    "\n",
    "# seperate text and rectangle elements\n",
    "for e in current_page:\n",
    "    if isinstance(e, pdfminer.layout.LTTextBoxHorizontal):\n",
    "        texts.append(e)\n",
    "    elif isinstance(e, pdfminer.layout.LTRect) or isinstance(e, pdfminer.layout.LTCurve):\n",
    "        rects.append(e)\n",
    "\n",
    "# sort them into \n",
    "characters = extract_characters(texts)"
   ]
  },
  {
   "cell_type": "code",
   "execution_count": 8,
   "metadata": {},
   "outputs": [],
   "source": [
    "import matplotlib.pyplot as plt\n",
    "from matplotlib import patches\n",
    "%matplotlib inline\n",
    "\n",
    "def draw_rect_bbox( x, ax, color):\n",
    "    \"\"\"\n",
    "    Draws an unfilled rectable onto ax.\n",
    "    \"\"\"\n",
    "    x0,y0,x1,y1 = x\n",
    "    ax.add_patch(patches.Rectangle((x0,y0),x1-x0, y1-y0, fill=False, color=color))\n",
    "\n",
    "   \n",
    "    \n",
    "def draw_rect(rect, ax, color=\"black\"):\n",
    "    draw_rect_bbox(rect.bbox, ax, color)"
   ]
  },
  {
   "cell_type": "code",
   "execution_count": 9,
   "metadata": {},
   "outputs": [
    {
     "data": {
      "image/png": "[encoded data removed]",
      "text/plain": [
       "<Figure size 432x305.466 with 1 Axes>"
      ]
     },
     "metadata": {
      "needs_background": "light"
     },
     "output_type": "display_data"
    }
   ],
   "source": [
    "# visualise characters and rectangels on page\n",
    "\n",
    "xmin, ymin, xmax, ymax = current_page.bbox\n",
    "size = 6\n",
    "\n",
    "fig, ax = plt.subplots(figsize = (size, size * (ymax/xmax)))\n",
    "\n",
    "for rect in rects:\n",
    "    draw_rect(rect , ax)\n",
    "\n",
    "# Select all the characters that fall within a certain range on the page.\n",
    "# This part might make it hard to generalize because this will not work for every page.\n",
    "# We could also try to find a solution by filtering based on the rectangles (widths, areas etc.)\n",
    "relevant_characters = []\n",
    "for c in characters:\n",
    "    if c.x0 > 75 and c.x1 < 530:\n",
    "        relevant_characters.append(c)\n",
    "        draw_rect(c, ax, \"red\")\n",
    "    \n",
    "\n",
    "plt.xlim(xmin, xmax)\n",
    "plt.ylim(ymin, ymax)\n",
    "plt.show()"
   ]
  },
  {
   "cell_type": "code",
   "execution_count": 10,
   "metadata": {},
   "outputs": [
    {
     "name": "stdout",
     "output_type": "stream",
     "text": [
      "0\n",
      "general health behaviours and address mistrust, misinformation and rumours with actionable and verified information- schools, market vendors, etc. This training is to be conducted online via the use of video training packages that will be made available to Branches and volunteers.\n",
      "1\n",
      "  Risk communication: Carry out risk communication activities based on community information needs, concerns and perceptions, share timely and trustworthy information, address misinformation and build knowledge, acceptance and intention about signs and symptoms, transmission modes, preventive actions (hand washing, social distancing) and care-seeking behaviours by people experiencing respiratory symptoms. Participate in and contribute to risk communication and community engagement coordination structures\n",
      "2\n",
      ". Addressing Social cohesion: Promote local dialogue through the use of mass media about social cohesion with focus on addressing stigma and xenophobia and promote acceptance and trust.Set up a community feedback system (including rumours tracking) to monitor, address and  answer information gaps, beliefs and misconceptions, questions and rumours and inform health approaches Health Output 1.2: National Societies are prepared to maintain life-saving humanitarian and devactivities during an outbreak of COVID-19, and can adapt their approaches to the evolving outbActivities planned                                                                                        \n",
      "3\n",
      "  Month Plan response: Develop and review pandemic preparedness & response plan.\n",
      "4\n",
      "  ECV training: Conduct training for new staff and volunteers on Epidemic Control for Volunteers – focused on COVID-19. This training is to be conducted online via the use of video training packages that will be made available to Branches and volunteers\n",
      "5\n",
      ". PPE training: Training and sensitization of the appropriate, safe and effective use of PPE to staff and volunteers. This training is to be conducted online via the use of video training packages that will be made available to Branches and volunteers\n",
      "6\n",
      ". Develop materials: Localise, contextualise and/or translate COVID-19 materials and tools for community-level use, self-isolation instructions for families and communitie\n",
      "7\n",
      "s Preposition PPE: The CIRCS will be provided with PPE supplies from CCST – Suva for their staff and volunteers. The CIRCS will be in close coordination with public authorities, for additional PPE for use by volunteers and staff working in high-risk conditions (i.e. home-based care; screening by questionnaire) Needed PPEs; Masks, gloves, hand Sanitizers, garbage bags, washing soap, salt, paper cups, cleaning detergents, infrared thermometers,\n",
      "8\n",
      "  Readiness checks: Conduct national- and branch-level readiness checks to prepare to activate CBHFA, ECV and other community-based volunteers to respond in the event of an outbrea\n"
     ]
    }
   ],
   "source": [
    "# transform all characters to sentences\n",
    "rows = sorted(list(set(c.bbox[1] for c in relevant_characters)), reverse=True)\n",
    "text = \"\"\n",
    "\n",
    "for row in rows:\n",
    "    sorted_row = sorted([c for c in relevant_characters if c.bbox[1] == row], key=lambda c: c.bbox[0])\n",
    "    text += \"\".join(c.get_text() for c in sorted_row)\n",
    "    \n",
    "\n",
    "# Find all activity titles    \n",
    "indeces = re.finditer(r\".\\s([A-Z])(\\w+\\s?){1,10}:\", text)\n",
    "\n",
    "for i,match in enumerate(indeces):\n",
    "    if i == 0:\n",
    "        previous_page = text[:match.start(0)]\n",
    "        start = match.start(0)\n",
    "        print(i)\n",
    "        print(previous_page)\n",
    "    else:\n",
    "        activity = text[start:match.start(0)]\n",
    "        start = match.start(0)\n",
    "        print(i)\n",
    "        print(activity)\n",
    "    # does not print last activity\n"
   ]
  },
  {
   "cell_type": "code",
   "execution_count": 11,
   "metadata": {},
   "outputs": [],
   "source": [
    "# The rest of the tutorial works best if filtering the desired bounding boxes out of the page seems\n",
    "# to work properly. For the pages I tested on this did not really work out but it might be something to \n",
    "# experiment with."
   ]
  },
  {
   "cell_type": "code",
   "execution_count": null,
   "metadata": {},
   "outputs": [],
   "source": []
  }
 ],
 "metadata": {
  "kernelspec": {
   "display_name": "Python 3",
   "language": "python",
   "name": "python3"
  },
  "language_info": {
   "codemirror_mode": {
    "name": "ipython",
    "version": 3
   },
   "file_extension": ".py",
   "mimetype": "text/x-python",
   "name": "python",
   "nbconvert_exporter": "python",
   "pygments_lexer": "ipython3",
   "version": "3.7.3"
  }
 },
 "nbformat": 4,
 "nbformat_minor": 2
}
