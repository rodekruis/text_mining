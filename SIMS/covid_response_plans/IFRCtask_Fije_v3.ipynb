{
 "cells": [
  {
   "cell_type": "code",
   "execution_count": 78,
   "metadata": {
    "collapsed": true
   },
   "outputs": [],
   "source": [
    "from pdfminer.converter import TextConverter\n",
    "from pdfminer.layout import LAParams\n",
    "from pdfminer.pdfdocument import PDFDocument\n",
    "from pdfminer.pdfinterp import PDFResourceManager, PDFPageInterpreter\n",
    "from pdfminer.pdfpage import PDFPage\n",
    "from pdfminer.pdfparser import PDFParser\n",
    "from pdfminer.converter import PDFPageAggregator\n",
    "from io import StringIO\n",
    "import os\n",
    "import codecs\n",
    "import re \n",
    "import tabula\n",
    "\n",
    "import numpy as np\n",
    "import camelot\n"
   ]
  },
  {
   "cell_type": "code",
   "execution_count": 149,
   "metadata": {
    "collapsed": true
   },
   "outputs": [],
   "source": [
    "def readPDFs():\n",
    "    for country in os.listdir('Approved Plans'):\n",
    "        # Test only on Cook Islands\n",
    "        if country != 'Cook Islands':\n",
    "            continue\n",
    "        for file in os.listdir('Approved Plans/'+country):\n",
    "\n",
    "            if file.startswith('MDR'):\n",
    "                output_string = StringIO()\n",
    "                with open('Approved Plans/'+country+'/'+file, 'rb') as fh:\n",
    "                    parser = PDFParser(fh)\n",
    "                    doc = PDFDocument(parser)\n",
    "                    rsrcmgr = PDFResourceManager()\n",
    "                    device = TextConverter(rsrcmgr, output_string, laparams=LAParams())\n",
    "                    interpreter = PDFPageInterpreter(rsrcmgr, device)\n",
    "                    landscapepages = list()\n",
    "                    for ix, page in enumerate(PDFPage.create_pages(doc)):\n",
    "                        # only pages with landscape orientation\n",
    "                        if page.cropbox[2] < 800:\n",
    "                            continue\n",
    "                        interpreter.process_page(page)\n",
    "                        # count landscape page \n",
    "                        landscapepages.append(ix+1)\n",
    "                    \n",
    "                    landscapepages = str(landscapepages)\n",
    "                    landscapepages = landscapepages[1:-1]\n",
    "                    # find all tables on the landscape pages and create excel tables\n",
    "                    foundtables = camelot.read_pdf(file, pages=landscapepages)\n",
    "                    for i in range(len(foundtables)):\n",
    "                        foundtables[i].to_excel('Table_test'+str(i)+'.xlsx') \n",
    "                        \n",
    "                    file1 = codecs.open('Approved Plans/'+country+'/'+country+'.txt', \"w\", \"utf-8\")  # write mode\n",
    "                    file1.write(output_string.getvalue())\n",
    "                    file1.close()\n",
    "            if file.endswith('txt'):\n",
    "                extractInfo(file,country)"
   ]
  },
  {
   "cell_type": "code",
   "execution_count": 150,
   "metadata": {
    "collapsed": true
   },
   "outputs": [],
   "source": [
    "def extractInfo(file, country):\n",
    "    sectors = ['Livelihoods and basic needs', 'Water, sanitation and hygiene', 'Health']\n",
    "    file1 = codecs.open('Approved Plans/' + country + '/' + file.split('.')[0] + '.txt', \"r\",\n",
    "                        \"utf-8\")  # write mode\n",
    "    text = file1.read()\n",
    "    # get detailed operational plan\n",
    "    text = re.split(r\"(.*)Detailed Operational Plan\", text, re.MULTILINE | re.DOTALL)[-1]\n",
    "\n",
    "    for sector in sectors:\n",
    "        text_sector = ' '.join(re.split(sector, text, re.MULTILINE | re.DOTALL))\n",
    "        #print(text_sector)\n",
    "        for line in re.split(r\"\\n\", text_sector, re.MULTILINE | re.DOTALL)[:10]:\n",
    "            if 'People targeted:' in line:\n",
    "                peop_target = re.findall(r\"[0-9,]+\", line)[0]\n",
    "            if 'Requirements (CHF):' in line:\n",
    "                budget = re.findall(r\"[0-9,]+\", line)[0]\n",
    "        # Here we should perhaps open the right excel pages and get out the right activities\n",
    "        activity_paragraphs = re.split(\"Activities planned\", text_sector, re.MULTILINE | re.DOTALL)\n",
    "        \n",
    "        #print(activity_paragraphs[1].replace('\\n\\n', ''))\n",
    "        #print(activity_paragraphs[1].replace('\\n\\n',''))\n",
    "       # for activity_paragraph in activity_paragraphs[1:2]:\n",
    "         #   print(activity_paragraph)"
   ]
  },
  {
   "cell_type": "code",
   "execution_count": 151,
   "metadata": {
    "scrolled": true
   },
   "outputs": [],
   "source": [
    "readPDFs()"
   ]
  },
  {
   "cell_type": "code",
   "execution_count": null,
   "metadata": {
    "collapsed": true
   },
   "outputs": [],
   "source": []
  }
 ],
 "metadata": {
  "kernelspec": {
   "display_name": "py36",
   "language": "python",
   "name": "py36"
  },
  "language_info": {
   "codemirror_mode": {
    "name": "ipython",
    "version": 3
   },
   "file_extension": ".py",
   "mimetype": "text/x-python",
   "name": "python",
   "nbconvert_exporter": "python",
   "pygments_lexer": "ipython3",
   "version": "3.6.8"
  }
 },
 "nbformat": 4,
 "nbformat_minor": 2
}
